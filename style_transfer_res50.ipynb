{
 "cells": [
  {
   "cell_type": "code",
   "execution_count": null,
   "id": "494cbcc4-487d-435c-84bd-49f390b02d71",
   "metadata": {},
   "outputs": [],
   "source": [
    "import sys\n",
    "import tensorflow as tf\n",
    "from IPython.display import clear_output\n",
    "from utils import load_im, save_im, preview\n",
    "from model_tf import StyleContentModel, StyleContentLoss, init_images\n",
    "from model_tf import get_train_step\n",
    "\n",
    "import matplotlib.pyplot as plt"
   ]
  },
  {
   "cell_type": "code",
   "execution_count": null,
   "id": "87e88a12-472f-4387-ba4d-71790ec06272",
   "metadata": {},
   "outputs": [],
   "source": [
    "def plot(im):\n",
    "    fig, ax = plt.subplots(1, 1, figsize=(20, 10))\n",
    "    ax.imshow(im[0])\n",
    "    plt.show()\n",
    "    \n",
    "def get_file_name(i):\n",
    "    path2im_name = lambda x: os.path.split(x)[-1].split(\".\")[0]\n",
    "    file_name = f\"{path2im_name(CONTENT_PATH)}_{path2im_name(STYLE_PATH)}\"\n",
    "    return os.path.join(\"generated\", file_name + f\"_{i}.jpg\")\n",
    "\n",
    "def style_transfer(content_im_np, style_im_np, style_layers, content_layers, backbone_name, n_iter=1000):\n",
    "    ### Prepare Model\n",
    "    content_im, style_im, im = init_images(content_im_np, style_im_np)\n",
    "    model = StyleContentModel(style_layers, content_layers, backbone_name=backbone_name)\n",
    "    style_targets = model(style_im)[\"style\"]\n",
    "    content_targets = model(content_im)[\"content\"]\n",
    "\n",
    "    styleContentLoss = StyleContentLoss(\n",
    "        content_targets, style_targets, STYLE_WEIGHT, CONTENT_WEIGHT\n",
    "    )\n",
    "\n",
    "    optim = tf.optimizers.Adam(learning_rate=LEARNING_RATE)\n",
    "\n",
    "    train_step = get_train_step(model, optim, styleContentLoss)\n",
    "\n",
    "    for i in range(n_iter):\n",
    "        train_step(im)\n",
    "        sys.stdout.write(\".\")\n",
    "        sys.stdout.flush()\n",
    "        if i %100 == 0:\n",
    "            clear_output()\n",
    "            print(f\"iter: {i}\")\n",
    "            plot(im)\n",
    "\n",
    "        if i % 1000 == 0: # and i != 0:\n",
    "            path = get_file_name(i)\n",
    "            save_im(im, path)\n",
    "\n",
    "    path = get_file_name(\"final\")        \n",
    "    save_im(im, path)"
   ]
  },
  {
   "cell_type": "code",
   "execution_count": null,
   "id": "fee0a7dc-e686-4662-969a-99a567788a1f",
   "metadata": {},
   "outputs": [],
   "source": [
    "MAX_DIM = 128\n",
    "STYLE_WEIGHT = 2e10\n",
    "CONTENT_WEIGHT = 1e2\n",
    "LEARNING_RATE = 0.02 #0.02\n",
    "\n",
    "GEN_PATH = \"generated/test.jpg\"\n",
    "STYLE_PATH = \"../guernica.jpg\"\n",
    "# STYLE_PATH = \"girl_pearl.jpg\"\n",
    "CONTENT_PATH = \"../beaver.jpg\""
   ]
  },
  {
   "cell_type": "code",
   "execution_count": null,
   "id": "21be5d54-30ba-4b4f-8c54-bf1387ddca67",
   "metadata": {},
   "outputs": [],
   "source": [
    "content_im_np = load_im(CONTENT_PATH, max_dim=MAX_DIM)\n",
    "style_im_np = load_im(STYLE_PATH, max_dim=MAX_DIM)\n",
    "\n",
    "plt.imshow(style_im_np)\n",
    "plt.show()"
   ]
  },
  {
   "cell_type": "code",
   "execution_count": null,
   "id": "a38fefa0-9d69-4574-b3c0-d29c16172eb8",
   "metadata": {},
   "outputs": [],
   "source": [
    "CONTENT_LAYERS = [\"conv2_block3_out\"]\n",
    "\n",
    "STYLE_LAYERS = [\n",
    "    \"conv2_block1_out\",\n",
    "    \"conv2_block2_out\",\n",
    "    \"conv2_block3_out\",\n",
    "    \"conv3_block1_out\",\n",
    "#     \"conv3_block2_out\",\n",
    "#     \"conv3_block3_out\",\n",
    "#     \"conv3_block4_out\",\n",
    "#     \"conv4_block1_out\",\n",
    "#     \"conv4_block2_out\",\n",
    "#     \"conv4_block3_out\",\n",
    "#     \"conv4_block4_out\",\n",
    "#     \"conv4_block5_out\",\n",
    "#     \"conv4_block6_out\",\n",
    "#     \"conv5_block1_out\",\n",
    "#     \"conv5_block2_out\",\n",
    "#     \"conv5_block3_out\",\n",
    "] \n",
    "\n",
    "  \n",
    "\n",
    "backbone_name = \"ResNet50\"\n",
    "\n",
    "style_transfer(content_im_np, style_im_np, STYLE_LAYERS, \n",
    "               CONTENT_LAYERS, backbone_name, 10000)"
   ]
  },
  {
   "cell_type": "code",
   "execution_count": null,
   "id": "f516582c-a6bd-44f2-9472-690a2aab9ebc",
   "metadata": {},
   "outputs": [],
   "source": []
  }
 ],
 "metadata": {
  "kernelspec": {
   "display_name": "Python 3",
   "language": "python",
   "name": "python3"
  },
  "language_info": {
   "codemirror_mode": {
    "name": "ipython",
    "version": 3
   },
   "file_extension": ".py",
   "mimetype": "text/x-python",
   "name": "python",
   "nbconvert_exporter": "python",
   "pygments_lexer": "ipython3",
   "version": "3.9.2"
  }
 },
 "nbformat": 4,
 "nbformat_minor": 5
}
